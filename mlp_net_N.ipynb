{
  "nbformat": 4,
  "nbformat_minor": 0,
  "metadata": {
    "colab": {
      "name": "mlp_net_N",
      "provenance": [],
      "authorship_tag": "ABX9TyPZ6kbzDaxQJKLYADaqglMi"
    },
    "kernelspec": {
      "name": "python3",
      "display_name": "Python 3"
    }
  },
  "cells": [
    {
      "cell_type": "code",
      "metadata": {
        "id": "lgH5zH0fx94p",
        "outputId": "78f4b4f5-29e5-4dd3-9134-3cbc927b33b0",
        "colab": {
          "base_uri": "https://localhost:8080/",
          "height": 51
        }
      },
      "source": [
        "%tensorflow_version 1.x\n",
        "import json\n",
        "import numpy as np\n",
        "#from sklearn.model_selection import train_test_split\n",
        "import tensorflow.keras as keras\n",
        "import matplotlib.pyplot as plt\n",
        "\n",
        "from tensorflow.keras.utils import to_categorical\n",
        "from keras.models import Sequential\n",
        "from keras.layers import Dense,Input\n",
        "from keras.layers.normalization import BatchNormalization\n",
        "from tensorflow.keras import regularizers\n",
        "from keras.optimizers import Adam, SGD\n",
        "from keras.layers import LeakyReLU"
      ],
      "execution_count": 1,
      "outputs": [
        {
          "output_type": "stream",
          "text": [
            "TensorFlow 1.x selected.\n"
          ],
          "name": "stdout"
        },
        {
          "output_type": "stream",
          "text": [
            "Using TensorFlow backend.\n"
          ],
          "name": "stderr"
        }
      ]
    },
    {
      "cell_type": "code",
      "metadata": {
        "id": "MoWfF0E32PRc"
      },
      "source": [
        "#Neccessary git clones\n"
      ],
      "execution_count": 2,
      "outputs": []
    },
    {
      "cell_type": "code",
      "metadata": {
        "id": "cn9AoZvbyC_v"
      },
      "source": [
        "#Loading in data\n",
        "data_path = \"./data_humans.json\"\n",
        "#Load data\n",
        "with open(data_path, \"r\") as fp:\n",
        "    data = json.load(fp)\n",
        "\n"
      ],
      "execution_count": 4,
      "outputs": []
    },
    {
      "cell_type": "code",
      "metadata": {
        "id": "U2VXeXK-6pam"
      },
      "source": [
        "# data.keys()\n",
        "mapping=data['metadata']['all labels in loaded order']\n",
        "# data['metadata'].keys()\n",
        "#data['dataperclass'].keys()"
      ],
      "execution_count": 5,
      "outputs": []
    },
    {
      "cell_type": "code",
      "metadata": {
        "id": "fxG8fQDV7lJM",
        "outputId": "8a150337-2ec6-4c75-d94f-da389d473fb5",
        "colab": {
          "base_uri": "https://localhost:8080/",
          "height": 221
        }
      },
      "source": [
        "X=list(); Y=list()\n",
        "C_x=list();C_y=list()\n",
        "for i,c in enumerate(labels):\n",
        "  print(c)\n",
        "  skel_class=data['dataperclass'][c]['skelsinfo_list']\n",
        "  #print(np.array(skel_class))\n",
        "  C_x.append(skel_class)\n",
        "  print(np.array(C_x).shape)\n",
        "  label_class=data['dataperclass'][c]['label_list']\n",
        "  C_y.append(label_class)\n",
        "  #print(len(C_y))\n",
        "  X.extend(skel_class)\n",
        "  Y.extend(label_class)\n",
        "\n"
      ],
      "execution_count": 6,
      "outputs": [
        {
          "output_type": "stream",
          "text": [
            "follow\n",
            "(1, 500, 24)\n",
            "pour\n",
            "(2, 500, 24)\n",
            "pp\n",
            "(3, 500, 24)\n",
            "stand\n",
            "(4, 500, 24)\n",
            "stop\n",
            "(5, 500, 24)\n",
            "wave\n",
            "(6, 500, 24)\n"
          ],
          "name": "stdout"
        }
      ]
    },
    {
      "cell_type": "code",
      "metadata": {
        "id": "yY9iU8JOTt_o",
        "outputId": "467450e2-2c55-43ca-8bfd-f1a8347cbf84",
        "colab": {
          "base_uri": "https://localhost:8080/",
          "height": 51
        }
      },
      "source": [
        "print(np.array(X).shape)\n",
        "print(np.array(Y).shape)"
      ],
      "execution_count": 7,
      "outputs": [
        {
          "output_type": "stream",
          "text": [
            "(3000, 24)\n",
            "(3000,)\n"
          ],
          "name": "stdout"
        }
      ]
    },
    {
      "cell_type": "code",
      "metadata": {
        "id": "H_XEFxSGJKmY",
        "outputId": "32f7a314-69df-4ad1-f58f-350098bb4eaa",
        "colab": {
          "base_uri": "https://localhost:8080/",
          "height": 34
        }
      },
      "source": [
        "# mapping={l:i for i,l in enumerate(labels)}\n",
        "# print(mapping)\n",
        "# labels=[]\n",
        "# for y in Y:\n",
        "#   labels.append(mapping[y])"
      ],
      "execution_count": null,
      "outputs": [
        {
          "output_type": "stream",
          "text": [
            "{'follow': 0, 'pour': 1, 'pp': 2, 'stand': 3, 'stop': 4, 'wave': 5}\n"
          ],
          "name": "stdout"
        }
      ]
    },
    {
      "cell_type": "code",
      "metadata": {
        "id": "kgXZHO_sH5bp"
      },
      "source": [
        "targets=[]\n",
        "for y in Y:\n",
        "  targets.append(y-1)"
      ],
      "execution_count": 13,
      "outputs": []
    },
    {
      "cell_type": "code",
      "metadata": {
        "id": "2mCS1PDSIrj8",
        "outputId": "d42edb60-3bb2-4fae-c74f-2b69bcad680f",
        "colab": {
          "base_uri": "https://localhost:8080/",
          "height": 102
        }
      },
      "source": [
        "encoder_Y = to_categorical(targets)\n",
        "print(Y[0], \": \", encoder_Y[0])\n",
        "print(Y[50], \": \", encoder_Y[50])\n",
        "print(Y[100], \": \", encoder_Y[100])\n",
        "print(Y[150], \": \", encoder_Y[150])\n",
        "print(Y[1000], \": \", encoder_Y[1000])"
      ],
      "execution_count": 16,
      "outputs": [
        {
          "output_type": "stream",
          "text": [
            "1 :  [1. 0. 0. 0. 0. 0.]\n",
            "1 :  [1. 0. 0. 0. 0. 0.]\n",
            "1 :  [1. 0. 0. 0. 0. 0.]\n",
            "1 :  [1. 0. 0. 0. 0. 0.]\n",
            "3 :  [0. 0. 1. 0. 0. 0.]\n"
          ],
          "name": "stdout"
        }
      ]
    },
    {
      "cell_type": "code",
      "metadata": {
        "id": "MnG1UVIH9sSH"
      },
      "source": [
        "import numpy as np\n",
        "def train_test_split(X_data,Y_data,val=0.2,test=0.1):\n",
        "    X_data=np.array(X_data);Y_data=np.array(Y_data)\n",
        "    # create random train/test split\n",
        "    indices = list(range(X_data.shape[0]))\n",
        "    train_split=1.0-(val+test)\n",
        "    num_training_indices = int(train_split * X_data.shape[0])\n",
        "    num_valid_indices = int(val * X_data.shape[0])\n",
        "    #num_test_indices = int(train_split * X_data.shape[0])\n",
        "    np.random.shuffle(indices)\n",
        "    train_indices = indices[:num_training_indices]\n",
        "    valid_indices=indices[num_training_indices:num_training_indices+num_valid_indices]\n",
        "    test_indices = indices[num_training_indices+num_valid_indices:]\n",
        "\n",
        "    # split the actual data\n",
        "    X_data_train, X_data_val, X_data_test = X_data[train_indices], X_data[valid_indices], X_data[test_indices]\n",
        "    Y_data_train, Y_data_val ,Y_data_test = Y_data[train_indices], Y_data[valid_indices], Y_data[test_indices]\n",
        "    return (X_data_train, X_data_val, X_data_test, Y_data_train, Y_data_val, Y_data_test)\n"
      ],
      "execution_count": 17,
      "outputs": []
    },
    {
      "cell_type": "code",
      "metadata": {
        "id": "Ej14Lr0Brh4d"
      },
      "source": [
        "from tensorflow.keras.utils import normalize\n",
        "X=normalize(X)\n",
        "X_train, X_val, X_test, Y_train, Y_val, Y_test=train_test_split(X,encoder_Y)"
      ],
      "execution_count": 22,
      "outputs": []
    },
    {
      "cell_type": "code",
      "metadata": {
        "id": "sJN_3Cebkwg4",
        "outputId": "4c2da6fc-bec7-47c5-c143-f766fe64ec1e",
        "colab": {
          "base_uri": "https://localhost:8080/",
          "height": 34
        }
      },
      "source": [
        "X_train.shape"
      ],
      "execution_count": 24,
      "outputs": [
        {
          "output_type": "execute_result",
          "data": {
            "text/plain": [
              "(2100, 24)"
            ]
          },
          "metadata": {
            "tags": []
          },
          "execution_count": 24
        }
      ]
    },
    {
      "cell_type": "code",
      "metadata": {
        "id": "0CuiUPn9_GCp"
      },
      "source": [
        "# Build a simple DNN model with keras\n",
        "model = Sequential()\n",
        "#model.add(Input(shape=(24,)))\n",
        "model.add(Dense(units=48, input_shape=(24,), activation='relu',kernel_regularizer=keras.regularizers.l2(0.001)))\n",
        "model.add(BatchNormalization())\n",
        "model.add(Dense(units=128, activation='relu',kernel_regularizer=keras.regularizers.l2(0.001)))\n",
        "model.add(BatchNormalization())\n",
        "keras.layers.Dropout(0.2),\n",
        "model.add(Dense(units=64, activation='relu',kernel_regularizer=keras.regularizers.l2(0.001)))\n",
        "model.add(BatchNormalization())\n",
        "keras.layers.Dropout(0.2),\n",
        "model.add(Dense(units=16, activation='relu',kernel_regularizer=keras.regularizers.l2(0.001)))\n",
        "model.add(BatchNormalization())\n",
        "model.add(Dense(units=6, activation='softmax'))\n",
        "#model.add(Dense(units=1,))\n",
        "\n",
        "# Training\n",
        "# optimiser: Adam with learning rate 0.0001\n",
        "# loss: categorical_crossentropy for the matrix form matrix_Y\n",
        "# metrics: accuracy is evaluated for the model\n",
        "model.compile(optimizer=Adam(0.0001), loss='categorical_crossentropy', metrics=['accuracy'])\n"
      ],
      "execution_count": 25,
      "outputs": []
    },
    {
      "cell_type": "code",
      "metadata": {
        "id": "UqZAW53tiWXh",
        "outputId": "46e1ec48-ad2d-41f9-fd22-ff07e010c839",
        "colab": {
          "base_uri": "https://localhost:8080/",
          "height": 459
        }
      },
      "source": [
        "model.summary()"
      ],
      "execution_count": 26,
      "outputs": [
        {
          "output_type": "stream",
          "text": [
            "Model: \"sequential_2\"\n",
            "_________________________________________________________________\n",
            "Layer (type)                 Output Shape              Param #   \n",
            "=================================================================\n",
            "dense_6 (Dense)              (None, 48)                1200      \n",
            "_________________________________________________________________\n",
            "batch_normalization_5 (Batch (None, 48)                192       \n",
            "_________________________________________________________________\n",
            "dense_7 (Dense)              (None, 128)               6272      \n",
            "_________________________________________________________________\n",
            "batch_normalization_6 (Batch (None, 128)               512       \n",
            "_________________________________________________________________\n",
            "dense_8 (Dense)              (None, 64)                8256      \n",
            "_________________________________________________________________\n",
            "batch_normalization_7 (Batch (None, 64)                256       \n",
            "_________________________________________________________________\n",
            "dense_9 (Dense)              (None, 16)                1040      \n",
            "_________________________________________________________________\n",
            "batch_normalization_8 (Batch (None, 16)                64        \n",
            "_________________________________________________________________\n",
            "dense_10 (Dense)             (None, 6)                 102       \n",
            "=================================================================\n",
            "Total params: 17,894\n",
            "Trainable params: 17,382\n",
            "Non-trainable params: 512\n",
            "_________________________________________________________________\n"
          ],
          "name": "stdout"
        }
      ]
    },
    {
      "cell_type": "code",
      "metadata": {
        "id": "FssR6cVxYA4i",
        "outputId": "d76b408e-9eb5-4545-9c54-d9da129274a3",
        "colab": {
          "base_uri": "https://localhost:8080/",
          "height": 1000
        }
      },
      "source": [
        "# batch_size: number of samples per gradient update\n",
        "# epochs: how many times to pass through the whole training set\n",
        "# verbose: show one line for every completed epoch\n",
        "history=model.fit(X_train, Y_train, batch_size=24, epochs=100, verbose=2, validation_data=(X_val, Y_val))\n",
        "#model.summary()"
      ],
      "execution_count": 27,
      "outputs": [
        {
          "output_type": "stream",
          "text": [
            "WARNING:tensorflow:From /tensorflow-1.15.2/python3.6/keras/backend/tensorflow_backend.py:422: The name tf.global_variables is deprecated. Please use tf.compat.v1.global_variables instead.\n",
            "\n",
            "Train on 2100 samples, validate on 600 samples\n",
            "Epoch 1/100\n",
            " - 1s - loss: 1.3479 - accuracy: 0.6352 - val_loss: 2.0634 - val_accuracy: 0.1750\n",
            "Epoch 2/100\n",
            " - 0s - loss: 0.6830 - accuracy: 0.9076 - val_loss: 2.1220 - val_accuracy: 0.1533\n",
            "Epoch 3/100\n",
            " - 0s - loss: 0.5284 - accuracy: 0.9614 - val_loss: 2.0885 - val_accuracy: 0.1533\n",
            "Epoch 4/100\n",
            " - 0s - loss: 0.4490 - accuracy: 0.9790 - val_loss: 1.8817 - val_accuracy: 0.1533\n",
            "Epoch 5/100\n",
            " - 0s - loss: 0.4158 - accuracy: 0.9829 - val_loss: 1.4686 - val_accuracy: 0.2900\n",
            "Epoch 6/100\n",
            " - 0s - loss: 0.3806 - accuracy: 0.9833 - val_loss: 0.9707 - val_accuracy: 0.9200\n",
            "Epoch 7/100\n",
            " - 0s - loss: 0.3652 - accuracy: 0.9843 - val_loss: 0.5599 - val_accuracy: 0.9750\n",
            "Epoch 8/100\n",
            " - 0s - loss: 0.3441 - accuracy: 0.9910 - val_loss: 0.3684 - val_accuracy: 0.9950\n",
            "Epoch 9/100\n",
            " - 0s - loss: 0.3373 - accuracy: 0.9862 - val_loss: 0.3016 - val_accuracy: 0.9950\n",
            "Epoch 10/100\n",
            " - 0s - loss: 0.3073 - accuracy: 0.9924 - val_loss: 0.2741 - val_accuracy: 0.9950\n",
            "Epoch 11/100\n",
            " - 0s - loss: 0.2935 - accuracy: 0.9900 - val_loss: 0.2591 - val_accuracy: 0.9933\n",
            "Epoch 12/100\n",
            " - 0s - loss: 0.2833 - accuracy: 0.9900 - val_loss: 0.2671 - val_accuracy: 0.9967\n",
            "Epoch 13/100\n",
            " - 0s - loss: 0.2743 - accuracy: 0.9919 - val_loss: 0.2381 - val_accuracy: 0.9983\n",
            "Epoch 14/100\n",
            " - 0s - loss: 0.2593 - accuracy: 0.9943 - val_loss: 0.2338 - val_accuracy: 0.9967\n",
            "Epoch 15/100\n",
            " - 0s - loss: 0.2533 - accuracy: 0.9929 - val_loss: 0.2282 - val_accuracy: 0.9983\n",
            "Epoch 16/100\n",
            " - 0s - loss: 0.2516 - accuracy: 0.9943 - val_loss: 0.2264 - val_accuracy: 0.9967\n",
            "Epoch 17/100\n",
            " - 0s - loss: 0.2418 - accuracy: 0.9938 - val_loss: 0.2178 - val_accuracy: 0.9967\n",
            "Epoch 18/100\n",
            " - 0s - loss: 0.2432 - accuracy: 0.9924 - val_loss: 0.2129 - val_accuracy: 0.9983\n",
            "Epoch 19/100\n",
            " - 0s - loss: 0.2326 - accuracy: 0.9957 - val_loss: 0.2085 - val_accuracy: 0.9983\n",
            "Epoch 20/100\n",
            " - 0s - loss: 0.2248 - accuracy: 0.9976 - val_loss: 0.2053 - val_accuracy: 0.9967\n",
            "Epoch 21/100\n",
            " - 0s - loss: 0.2212 - accuracy: 0.9962 - val_loss: 0.2195 - val_accuracy: 0.9900\n",
            "Epoch 22/100\n",
            " - 0s - loss: 0.2148 - accuracy: 0.9962 - val_loss: 0.2063 - val_accuracy: 0.9917\n",
            "Epoch 23/100\n",
            " - 0s - loss: 0.2165 - accuracy: 0.9952 - val_loss: 0.1994 - val_accuracy: 0.9933\n",
            "Epoch 24/100\n",
            " - 0s - loss: 0.2120 - accuracy: 0.9967 - val_loss: 0.1928 - val_accuracy: 0.9983\n",
            "Epoch 25/100\n",
            " - 0s - loss: 0.2091 - accuracy: 0.9943 - val_loss: 0.1929 - val_accuracy: 0.9967\n",
            "Epoch 26/100\n",
            " - 0s - loss: 0.2054 - accuracy: 0.9967 - val_loss: 0.1873 - val_accuracy: 0.9983\n",
            "Epoch 27/100\n",
            " - 0s - loss: 0.1980 - accuracy: 0.9990 - val_loss: 0.1857 - val_accuracy: 0.9983\n",
            "Epoch 28/100\n",
            " - 0s - loss: 0.1982 - accuracy: 0.9971 - val_loss: 0.1826 - val_accuracy: 1.0000\n",
            "Epoch 29/100\n",
            " - 0s - loss: 0.1969 - accuracy: 0.9971 - val_loss: 0.1803 - val_accuracy: 1.0000\n",
            "Epoch 30/100\n",
            " - 0s - loss: 0.1930 - accuracy: 0.9962 - val_loss: 0.1787 - val_accuracy: 0.9983\n",
            "Epoch 31/100\n",
            " - 0s - loss: 0.1950 - accuracy: 0.9957 - val_loss: 0.1756 - val_accuracy: 1.0000\n",
            "Epoch 32/100\n",
            " - 0s - loss: 0.1885 - accuracy: 0.9967 - val_loss: 0.1760 - val_accuracy: 0.9983\n",
            "Epoch 33/100\n",
            " - 0s - loss: 0.1856 - accuracy: 0.9971 - val_loss: 0.1744 - val_accuracy: 0.9983\n",
            "Epoch 34/100\n",
            " - 0s - loss: 0.1811 - accuracy: 0.9986 - val_loss: 0.1747 - val_accuracy: 0.9933\n",
            "Epoch 35/100\n",
            " - 0s - loss: 0.1806 - accuracy: 0.9957 - val_loss: 0.1710 - val_accuracy: 0.9983\n",
            "Epoch 36/100\n",
            " - 0s - loss: 0.1775 - accuracy: 0.9976 - val_loss: 0.1651 - val_accuracy: 1.0000\n",
            "Epoch 37/100\n",
            " - 0s - loss: 0.1778 - accuracy: 0.9957 - val_loss: 0.1723 - val_accuracy: 0.9933\n",
            "Epoch 38/100\n",
            " - 0s - loss: 0.1761 - accuracy: 0.9967 - val_loss: 0.1669 - val_accuracy: 0.9967\n",
            "Epoch 39/100\n",
            " - 0s - loss: 0.1766 - accuracy: 0.9952 - val_loss: 0.1756 - val_accuracy: 0.9933\n",
            "Epoch 40/100\n",
            " - 0s - loss: 0.1720 - accuracy: 0.9976 - val_loss: 0.1627 - val_accuracy: 0.9983\n",
            "Epoch 41/100\n",
            " - 0s - loss: 0.1702 - accuracy: 0.9971 - val_loss: 0.1608 - val_accuracy: 0.9983\n",
            "Epoch 42/100\n",
            " - 0s - loss: 0.1673 - accuracy: 0.9962 - val_loss: 0.1678 - val_accuracy: 0.9917\n",
            "Epoch 43/100\n",
            " - 0s - loss: 0.1677 - accuracy: 0.9981 - val_loss: 0.1566 - val_accuracy: 1.0000\n",
            "Epoch 44/100\n",
            " - 0s - loss: 0.1675 - accuracy: 0.9971 - val_loss: 0.1573 - val_accuracy: 1.0000\n",
            "Epoch 45/100\n",
            " - 0s - loss: 0.1664 - accuracy: 0.9971 - val_loss: 0.1531 - val_accuracy: 1.0000\n",
            "Epoch 46/100\n",
            " - 0s - loss: 0.1568 - accuracy: 1.0000 - val_loss: 0.1511 - val_accuracy: 1.0000\n",
            "Epoch 47/100\n",
            " - 0s - loss: 0.1583 - accuracy: 0.9986 - val_loss: 0.1498 - val_accuracy: 1.0000\n",
            "Epoch 48/100\n",
            " - 0s - loss: 0.1598 - accuracy: 0.9967 - val_loss: 0.1492 - val_accuracy: 1.0000\n",
            "Epoch 49/100\n",
            " - 0s - loss: 0.1555 - accuracy: 0.9976 - val_loss: 0.1473 - val_accuracy: 1.0000\n",
            "Epoch 50/100\n",
            " - 0s - loss: 0.1539 - accuracy: 0.9986 - val_loss: 0.1457 - val_accuracy: 1.0000\n",
            "Epoch 51/100\n",
            " - 0s - loss: 0.1525 - accuracy: 0.9981 - val_loss: 0.1458 - val_accuracy: 0.9983\n",
            "Epoch 52/100\n",
            " - 0s - loss: 0.1571 - accuracy: 0.9962 - val_loss: 0.1434 - val_accuracy: 1.0000\n",
            "Epoch 53/100\n",
            " - 0s - loss: 0.1509 - accuracy: 0.9986 - val_loss: 0.1461 - val_accuracy: 1.0000\n",
            "Epoch 54/100\n",
            " - 0s - loss: 0.1537 - accuracy: 0.9957 - val_loss: 0.1486 - val_accuracy: 0.9950\n",
            "Epoch 55/100\n",
            " - 0s - loss: 0.1520 - accuracy: 0.9957 - val_loss: 0.1413 - val_accuracy: 1.0000\n",
            "Epoch 56/100\n",
            " - 0s - loss: 0.1461 - accuracy: 0.9986 - val_loss: 0.1401 - val_accuracy: 1.0000\n",
            "Epoch 57/100\n",
            " - 0s - loss: 0.1438 - accuracy: 0.9990 - val_loss: 0.1378 - val_accuracy: 1.0000\n",
            "Epoch 58/100\n",
            " - 0s - loss: 0.1453 - accuracy: 0.9967 - val_loss: 0.1408 - val_accuracy: 0.9983\n",
            "Epoch 59/100\n",
            " - 0s - loss: 0.1417 - accuracy: 0.9990 - val_loss: 0.1394 - val_accuracy: 0.9983\n",
            "Epoch 60/100\n",
            " - 0s - loss: 0.1415 - accuracy: 0.9981 - val_loss: 0.1355 - val_accuracy: 1.0000\n",
            "Epoch 61/100\n",
            " - 0s - loss: 0.1428 - accuracy: 0.9986 - val_loss: 0.1347 - val_accuracy: 1.0000\n",
            "Epoch 62/100\n",
            " - 0s - loss: 0.1395 - accuracy: 0.9976 - val_loss: 0.1379 - val_accuracy: 0.9950\n",
            "Epoch 63/100\n",
            " - 0s - loss: 0.1369 - accuracy: 0.9981 - val_loss: 0.1357 - val_accuracy: 0.9983\n",
            "Epoch 64/100\n",
            " - 0s - loss: 0.1350 - accuracy: 0.9981 - val_loss: 0.1302 - val_accuracy: 1.0000\n",
            "Epoch 65/100\n",
            " - 0s - loss: 0.1349 - accuracy: 0.9990 - val_loss: 0.1300 - val_accuracy: 1.0000\n",
            "Epoch 66/100\n",
            " - 0s - loss: 0.1366 - accuracy: 0.9986 - val_loss: 0.1289 - val_accuracy: 1.0000\n",
            "Epoch 67/100\n",
            " - 0s - loss: 0.1342 - accuracy: 0.9976 - val_loss: 0.1274 - val_accuracy: 1.0000\n",
            "Epoch 68/100\n",
            " - 0s - loss: 0.1324 - accuracy: 0.9981 - val_loss: 0.1257 - val_accuracy: 1.0000\n",
            "Epoch 69/100\n",
            " - 0s - loss: 0.1330 - accuracy: 0.9971 - val_loss: 0.1258 - val_accuracy: 1.0000\n",
            "Epoch 70/100\n",
            " - 0s - loss: 0.1297 - accuracy: 0.9986 - val_loss: 0.1237 - val_accuracy: 1.0000\n",
            "Epoch 71/100\n",
            " - 0s - loss: 0.1252 - accuracy: 1.0000 - val_loss: 0.1226 - val_accuracy: 1.0000\n",
            "Epoch 72/100\n",
            " - 0s - loss: 0.1282 - accuracy: 0.9986 - val_loss: 0.1215 - val_accuracy: 1.0000\n",
            "Epoch 73/100\n",
            " - 0s - loss: 0.1248 - accuracy: 0.9990 - val_loss: 0.1211 - val_accuracy: 1.0000\n",
            "Epoch 74/100\n",
            " - 0s - loss: 0.1250 - accuracy: 0.9981 - val_loss: 0.1202 - val_accuracy: 1.0000\n",
            "Epoch 75/100\n",
            " - 0s - loss: 0.1247 - accuracy: 0.9976 - val_loss: 0.1273 - val_accuracy: 0.9933\n",
            "Epoch 76/100\n",
            " - 0s - loss: 0.1214 - accuracy: 0.9986 - val_loss: 0.1174 - val_accuracy: 1.0000\n",
            "Epoch 77/100\n",
            " - 0s - loss: 0.1208 - accuracy: 0.9986 - val_loss: 0.1169 - val_accuracy: 1.0000\n",
            "Epoch 78/100\n",
            " - 0s - loss: 0.1215 - accuracy: 0.9976 - val_loss: 0.1156 - val_accuracy: 1.0000\n",
            "Epoch 79/100\n",
            " - 0s - loss: 0.1212 - accuracy: 0.9976 - val_loss: 0.1169 - val_accuracy: 1.0000\n",
            "Epoch 80/100\n",
            " - 0s - loss: 0.1169 - accuracy: 1.0000 - val_loss: 0.1138 - val_accuracy: 1.0000\n",
            "Epoch 81/100\n",
            " - 0s - loss: 0.1175 - accuracy: 0.9986 - val_loss: 0.1135 - val_accuracy: 1.0000\n",
            "Epoch 82/100\n",
            " - 0s - loss: 0.1163 - accuracy: 1.0000 - val_loss: 0.1121 - val_accuracy: 1.0000\n",
            "Epoch 83/100\n",
            " - 0s - loss: 0.1165 - accuracy: 0.9986 - val_loss: 0.1111 - val_accuracy: 1.0000\n",
            "Epoch 84/100\n",
            " - 0s - loss: 0.1155 - accuracy: 0.9981 - val_loss: 0.1131 - val_accuracy: 1.0000\n",
            "Epoch 85/100\n",
            " - 0s - loss: 0.1133 - accuracy: 0.9995 - val_loss: 0.1101 - val_accuracy: 1.0000\n",
            "Epoch 86/100\n",
            " - 0s - loss: 0.1116 - accuracy: 1.0000 - val_loss: 0.1079 - val_accuracy: 1.0000\n",
            "Epoch 87/100\n",
            " - 0s - loss: 0.1122 - accuracy: 0.9990 - val_loss: 0.1266 - val_accuracy: 0.9900\n",
            "Epoch 88/100\n",
            " - 0s - loss: 0.1130 - accuracy: 0.9990 - val_loss: 0.1072 - val_accuracy: 1.0000\n",
            "Epoch 89/100\n",
            " - 0s - loss: 0.1137 - accuracy: 0.9981 - val_loss: 0.1071 - val_accuracy: 1.0000\n",
            "Epoch 90/100\n",
            " - 0s - loss: 0.1087 - accuracy: 0.9990 - val_loss: 0.1047 - val_accuracy: 1.0000\n",
            "Epoch 91/100\n",
            " - 0s - loss: 0.1071 - accuracy: 0.9995 - val_loss: 0.1040 - val_accuracy: 1.0000\n",
            "Epoch 92/100\n",
            " - 0s - loss: 0.1094 - accuracy: 0.9981 - val_loss: 0.1038 - val_accuracy: 1.0000\n",
            "Epoch 93/100\n",
            " - 0s - loss: 0.1078 - accuracy: 0.9986 - val_loss: 0.1026 - val_accuracy: 1.0000\n",
            "Epoch 94/100\n",
            " - 0s - loss: 0.1069 - accuracy: 0.9981 - val_loss: 0.1020 - val_accuracy: 1.0000\n",
            "Epoch 95/100\n",
            " - 0s - loss: 0.1040 - accuracy: 0.9995 - val_loss: 0.1014 - val_accuracy: 1.0000\n",
            "Epoch 96/100\n",
            " - 0s - loss: 0.1059 - accuracy: 0.9976 - val_loss: 0.1005 - val_accuracy: 1.0000\n",
            "Epoch 97/100\n",
            " - 0s - loss: 0.1047 - accuracy: 0.9990 - val_loss: 0.1013 - val_accuracy: 1.0000\n",
            "Epoch 98/100\n",
            " - 0s - loss: 0.1003 - accuracy: 1.0000 - val_loss: 0.0991 - val_accuracy: 1.0000\n",
            "Epoch 99/100\n",
            " - 0s - loss: 0.1007 - accuracy: 0.9995 - val_loss: 0.0986 - val_accuracy: 1.0000\n",
            "Epoch 100/100\n",
            " - 0s - loss: 0.0988 - accuracy: 1.0000 - val_loss: 0.0975 - val_accuracy: 1.0000\n"
          ],
          "name": "stdout"
        }
      ]
    },
    {
      "cell_type": "code",
      "metadata": {
        "id": "VT5O_CdcbJ0R",
        "outputId": "cf3cd0a1-36de-4275-a315-314e9ea7e1e3",
        "colab": {
          "base_uri": "https://localhost:8080/",
          "height": 51
        }
      },
      "source": [
        "#Evaluate on a test set\n",
        "test_loss, test_acc = model.evaluate(X_test,Y_test, verbose=2)\n",
        "\n",
        "print('\\nTest accuracy:', test_acc)"
      ],
      "execution_count": 28,
      "outputs": [
        {
          "output_type": "stream",
          "text": [
            "\n",
            "Test accuracy: 1.0\n"
          ],
          "name": "stdout"
        }
      ]
    },
    {
      "cell_type": "code",
      "metadata": {
        "id": "xuCw_ULAYZ55"
      },
      "source": [
        "# Save the trained model\n",
        "model.save('./mlp_N.h5')"
      ],
      "execution_count": 29,
      "outputs": []
    },
    {
      "cell_type": "code",
      "metadata": {
        "id": "kXN0JQ6JcAnp",
        "outputId": "8bb3a8e7-1b39-4488-fec1-1015b6906638",
        "colab": {
          "base_uri": "https://localhost:8080/",
          "height": 34
        }
      },
      "source": [
        "  history_dict = history.history\n",
        "  history_dict.keys()"
      ],
      "execution_count": 30,
      "outputs": [
        {
          "output_type": "execute_result",
          "data": {
            "text/plain": [
              "dict_keys(['val_loss', 'val_accuracy', 'loss', 'accuracy'])"
            ]
          },
          "metadata": {
            "tags": []
          },
          "execution_count": 30
        }
      ]
    },
    {
      "cell_type": "code",
      "metadata": {
        "id": "Hpv8CKUNVIGd"
      },
      "source": [
        "def plot_history(history):\n",
        "  history_dict = history.history\n",
        "  keys=list(history_dict.keys())\n",
        "  acc = history_dict['accuracy']\n",
        "  val_acc = history_dict['val_accuracy']\n",
        "  loss = history_dict['loss']\n",
        "  val_loss = history_dict['val_loss']\n",
        "\n",
        "  epochs = range(1, len(acc) + 1)\n",
        "\n",
        "  # \"bo\" is for \"blue dot\"\n",
        "  plt.plot(epochs, loss, 'r', label='Training loss')\n",
        "  # b is for \"solid blue line\"\n",
        "  plt.plot(epochs, val_loss, 'b', label='Validation loss')\n",
        "  plt.title('Training and validation loss')\n",
        "  plt.xlabel('Epochs')\n",
        "  plt.ylabel('Loss')\n",
        "  plt.legend()\n",
        "\n",
        "  plt.show()\n",
        "\n",
        "  plt.plot(epochs, acc, 'r', label='Training acc')\n",
        "  plt.plot(epochs, val_acc, 'b', label='Validation acc')\n",
        "  plt.title('Training and validation accuracy')\n",
        "  plt.xlabel('Epochs')\n",
        "  plt.ylabel('Accuracy')\n",
        "  plt.legend(loc='lower right')\n",
        "\n",
        "  plt.show()\n",
        "\n",
        "\n",
        "\n"
      ],
      "execution_count": 31,
      "outputs": []
    },
    {
      "cell_type": "code",
      "metadata": {
        "id": "rhzuNHqab3wi",
        "outputId": "73de1a57-114e-4a9c-8449-a7cc54c1bed7",
        "colab": {
          "base_uri": "https://localhost:8080/",
          "height": 573
        }
      },
      "source": [
        "plot_history(history)"
      ],
      "execution_count": 32,
      "outputs": [
        {
          "output_type": "display_data",
          "data": {
            "image/png": "[encoded data removed]",
            "text/plain": [
              "<Figure size 432x288 with 1 Axes>"
            ]
          },
          "metadata": {
            "tags": [],
            "needs_background": "light"
          }
        },
        {
          "output_type": "display_data",
          "data": {
            "image/png": "[encoded data removed]",
            "text/plain": [
              "<Figure size 432x288 with 1 Axes>"
            ]
          },
          "metadata": {
            "tags": [],
            "needs_background": "light"
          }
        }
      ]
    },
    {
      "cell_type": "code",
      "metadata": {
        "id": "n78HaWZYb5gC"
      },
      "source": [
        ""
      ],
      "execution_count": null,
      "outputs": []
    }
  ]
}